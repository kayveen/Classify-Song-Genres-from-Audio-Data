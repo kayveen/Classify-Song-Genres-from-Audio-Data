{
 "cells": [
  {
   "cell_type": "markdown",
   "metadata": {},
   "source": [
    "**Project Description**"
   ]
  },
  {
   "cell_type": "markdown",
   "metadata": {},
   "source": [
    "Using a dataset comprised of songs of two music genres (Hip-Hop and Rock), you will train a classifier to distinguish between the two genres based only on track information derived from Echonest (now part of Spotify). You will first make use of pandas and seaborn packages in Python for subsetting the data, aggregating information, and creating plots when exploring the data for obvious trends or factors you should be aware of when doing machine learning. Next, you will use the scikit-learn package to predict whether you can correctly classify a song's genre based on features such as danceability, energy, acousticness, tempo, etc. You will go over implementations of common algorithms such as PCA, logistic regression, decision trees, and so forth."
   ]
  },
  {
   "cell_type": "markdown",
   "metadata": {
    "dc": {
     "key": "3"
    },
    "deletable": false,
    "editable": false,
    "run_control": {
     "frozen": true
    },
    "tags": [
     "context"
    ]
   },
   "source": [
    "## 1. Preparing our dataset\n",
    "<p><em>These recommendations are so on point! How does this playlist know me so well?</em></p>\n",
    "<p><img src=\"https://s3.amazonaws.com/assets.datacamp.com/production/project_449/img/iphone_music.jpg\" alt=\"Project Image Record\" width=\"600px\"></p>\n",
    "<p>Over the past few years, streaming services with huge catalogs have become the primary means through which most people listen to their favorite music. But at the same time, the sheer amount of music on offer can mean users might be a bit overwhelmed when trying to look for newer music that suits their tastes.</p>\n",
    "<p>For this reason, streaming services have looked into means of categorizing music to allow for personalized recommendations. One method involves direct analysis of the raw audio information in a given song, scoring the raw data on a variety of metrics. Today, we'll be examining data compiled by a research group known as The Echo Nest. Our goal is to look through this dataset and classify songs as being either 'Hip-Hop' or 'Rock' - all without listening to a single one ourselves. In doing so, we will learn how to clean our data, do some exploratory data visualization, and use feature reduction towards the goal of feeding our data through some simple machine learning algorithms, such as decision trees and logistic regression.</p>\n",
    "<p>To begin with, let's load the metadata about our tracks alongside the track metrics compiled by The Echo Nest. A song is about more than its title, artist, and number of listens. We have another dataset that has musical features of each track such as <code>danceability</code> and <code>acousticness</code> on a scale from -1 to 1. These exist in two different files, which are in different formats - CSV and JSON. While CSV is a popular file format for denoting tabular data, JSON is another common file format in which databases often return the results of a given query.</p>\n",
    "<p>Let's start by creating two pandas <code>DataFrames</code> out of these files that we can merge so we have features and labels (often also referred to as <code>X</code> and <code>y</code>) for the classification later on.</p>"
   ]
  },
  {
   "cell_type": "code",
   "execution_count": 2,
   "metadata": {
    "dc": {
     "key": "3"
    },
    "tags": [
     "sample_code"
    ]
   },
   "outputs": [],
   "source": [
    "import pandas as pd\n",
    "\n",
    "# Read in track metadata with genre labels\n",
    "tracks = pd.read_csv('datasets/fma-rock-vs-hiphop.csv')\n",
    "# Read in track metrics with the features\n",
    "echonest_metrics = pd.read_json('datasets/echonest-metrics.json',\n",
    "                               precise_float = True)\n"
   ]
  },
  {
   "cell_type": "code",
   "execution_count": 3,
   "metadata": {},
   "outputs": [
    {
     "data": {
      "text/html": [
       "<div>\n",
       "<style scoped>\n",
       "    .dataframe tbody tr th:only-of-type {\n",
       "        vertical-align: middle;\n",
       "    }\n",
       "\n",
       "    .dataframe tbody tr th {\n",
       "        vertical-align: top;\n",
       "    }\n",
       "\n",
       "    .dataframe thead th {\n",
       "        text-align: right;\n",
       "    }\n",
       "</style>\n",
       "<table border=\"1\" class=\"dataframe\">\n",
       "  <thead>\n",
       "    <tr style=\"text-align: right;\">\n",
       "      <th></th>\n",
       "      <th>track_id</th>\n",
       "      <th>bit_rate</th>\n",
       "      <th>comments</th>\n",
       "      <th>composer</th>\n",
       "      <th>date_created</th>\n",
       "      <th>date_recorded</th>\n",
       "      <th>duration</th>\n",
       "      <th>favorites</th>\n",
       "      <th>genre_top</th>\n",
       "      <th>genres</th>\n",
       "      <th>...</th>\n",
       "      <th>information</th>\n",
       "      <th>interest</th>\n",
       "      <th>language_code</th>\n",
       "      <th>license</th>\n",
       "      <th>listens</th>\n",
       "      <th>lyricist</th>\n",
       "      <th>number</th>\n",
       "      <th>publisher</th>\n",
       "      <th>tags</th>\n",
       "      <th>title</th>\n",
       "    </tr>\n",
       "  </thead>\n",
       "  <tbody>\n",
       "    <tr>\n",
       "      <th>0</th>\n",
       "      <td>135</td>\n",
       "      <td>256000</td>\n",
       "      <td>1</td>\n",
       "      <td>NaN</td>\n",
       "      <td>2008-11-26 01:43:26</td>\n",
       "      <td>2008-11-26 00:00:00</td>\n",
       "      <td>837</td>\n",
       "      <td>0</td>\n",
       "      <td>Rock</td>\n",
       "      <td>[45, 58]</td>\n",
       "      <td>...</td>\n",
       "      <td>NaN</td>\n",
       "      <td>2484</td>\n",
       "      <td>en</td>\n",
       "      <td>Attribution-NonCommercial-ShareAlike 3.0 Inter...</td>\n",
       "      <td>1832</td>\n",
       "      <td>NaN</td>\n",
       "      <td>0</td>\n",
       "      <td>NaN</td>\n",
       "      <td>[]</td>\n",
       "      <td>Father's Day</td>\n",
       "    </tr>\n",
       "    <tr>\n",
       "      <th>1</th>\n",
       "      <td>136</td>\n",
       "      <td>256000</td>\n",
       "      <td>1</td>\n",
       "      <td>NaN</td>\n",
       "      <td>2008-11-26 01:43:35</td>\n",
       "      <td>2008-11-26 00:00:00</td>\n",
       "      <td>509</td>\n",
       "      <td>0</td>\n",
       "      <td>Rock</td>\n",
       "      <td>[45, 58]</td>\n",
       "      <td>...</td>\n",
       "      <td>NaN</td>\n",
       "      <td>1948</td>\n",
       "      <td>en</td>\n",
       "      <td>Attribution-NonCommercial-ShareAlike 3.0 Inter...</td>\n",
       "      <td>1498</td>\n",
       "      <td>NaN</td>\n",
       "      <td>0</td>\n",
       "      <td>NaN</td>\n",
       "      <td>[]</td>\n",
       "      <td>Peel Back The Mountain Sky</td>\n",
       "    </tr>\n",
       "    <tr>\n",
       "      <th>2</th>\n",
       "      <td>151</td>\n",
       "      <td>192000</td>\n",
       "      <td>0</td>\n",
       "      <td>NaN</td>\n",
       "      <td>2008-11-26 01:44:55</td>\n",
       "      <td>NaN</td>\n",
       "      <td>192</td>\n",
       "      <td>0</td>\n",
       "      <td>Rock</td>\n",
       "      <td>[25]</td>\n",
       "      <td>...</td>\n",
       "      <td>NaN</td>\n",
       "      <td>701</td>\n",
       "      <td>en</td>\n",
       "      <td>Attribution-NonCommercial-ShareAlike 3.0 Inter...</td>\n",
       "      <td>148</td>\n",
       "      <td>NaN</td>\n",
       "      <td>4</td>\n",
       "      <td>NaN</td>\n",
       "      <td>[]</td>\n",
       "      <td>Untitled 04</td>\n",
       "    </tr>\n",
       "    <tr>\n",
       "      <th>3</th>\n",
       "      <td>152</td>\n",
       "      <td>192000</td>\n",
       "      <td>0</td>\n",
       "      <td>NaN</td>\n",
       "      <td>2008-11-26 01:44:58</td>\n",
       "      <td>NaN</td>\n",
       "      <td>193</td>\n",
       "      <td>0</td>\n",
       "      <td>Rock</td>\n",
       "      <td>[25]</td>\n",
       "      <td>...</td>\n",
       "      <td>NaN</td>\n",
       "      <td>637</td>\n",
       "      <td>en</td>\n",
       "      <td>Attribution-NonCommercial-ShareAlike 3.0 Inter...</td>\n",
       "      <td>98</td>\n",
       "      <td>NaN</td>\n",
       "      <td>11</td>\n",
       "      <td>NaN</td>\n",
       "      <td>[]</td>\n",
       "      <td>Untitled 11</td>\n",
       "    </tr>\n",
       "    <tr>\n",
       "      <th>4</th>\n",
       "      <td>153</td>\n",
       "      <td>256000</td>\n",
       "      <td>0</td>\n",
       "      <td>Arc and Sender</td>\n",
       "      <td>2008-11-26 01:45:00</td>\n",
       "      <td>2008-11-26 00:00:00</td>\n",
       "      <td>405</td>\n",
       "      <td>5</td>\n",
       "      <td>Rock</td>\n",
       "      <td>[26]</td>\n",
       "      <td>...</td>\n",
       "      <td>NaN</td>\n",
       "      <td>354</td>\n",
       "      <td>en</td>\n",
       "      <td>Attribution-NonCommercial-NoDerivatives (aka M...</td>\n",
       "      <td>424</td>\n",
       "      <td>NaN</td>\n",
       "      <td>2</td>\n",
       "      <td>NaN</td>\n",
       "      <td>[]</td>\n",
       "      <td>Hundred-Year Flood</td>\n",
       "    </tr>\n",
       "  </tbody>\n",
       "</table>\n",
       "<p>5 rows × 21 columns</p>\n",
       "</div>"
      ],
      "text/plain": [
       "   track_id  bit_rate  comments        composer         date_created  \\\n",
       "0       135    256000         1             NaN  2008-11-26 01:43:26   \n",
       "1       136    256000         1             NaN  2008-11-26 01:43:35   \n",
       "2       151    192000         0             NaN  2008-11-26 01:44:55   \n",
       "3       152    192000         0             NaN  2008-11-26 01:44:58   \n",
       "4       153    256000         0  Arc and Sender  2008-11-26 01:45:00   \n",
       "\n",
       "         date_recorded  duration  favorites genre_top    genres  \\\n",
       "0  2008-11-26 00:00:00       837          0      Rock  [45, 58]   \n",
       "1  2008-11-26 00:00:00       509          0      Rock  [45, 58]   \n",
       "2                  NaN       192          0      Rock      [25]   \n",
       "3                  NaN       193          0      Rock      [25]   \n",
       "4  2008-11-26 00:00:00       405          5      Rock      [26]   \n",
       "\n",
       "              ...             information interest  language_code  \\\n",
       "0             ...                     NaN     2484             en   \n",
       "1             ...                     NaN     1948             en   \n",
       "2             ...                     NaN      701             en   \n",
       "3             ...                     NaN      637             en   \n",
       "4             ...                     NaN      354             en   \n",
       "\n",
       "                                             license listens  lyricist number  \\\n",
       "0  Attribution-NonCommercial-ShareAlike 3.0 Inter...    1832       NaN      0   \n",
       "1  Attribution-NonCommercial-ShareAlike 3.0 Inter...    1498       NaN      0   \n",
       "2  Attribution-NonCommercial-ShareAlike 3.0 Inter...     148       NaN      4   \n",
       "3  Attribution-NonCommercial-ShareAlike 3.0 Inter...      98       NaN     11   \n",
       "4  Attribution-NonCommercial-NoDerivatives (aka M...     424       NaN      2   \n",
       "\n",
       "   publisher tags                       title  \n",
       "0        NaN   []                Father's Day  \n",
       "1        NaN   []  Peel Back The Mountain Sky  \n",
       "2        NaN   []                 Untitled 04  \n",
       "3        NaN   []                 Untitled 11  \n",
       "4        NaN   []          Hundred-Year Flood  \n",
       "\n",
       "[5 rows x 21 columns]"
      ]
     },
     "execution_count": 3,
     "metadata": {},
     "output_type": "execute_result"
    }
   ],
   "source": [
    "tracks.head()"
   ]
  },
  {
   "cell_type": "code",
   "execution_count": 4,
   "metadata": {},
   "outputs": [
    {
     "data": {
      "text/html": [
       "<div>\n",
       "<style scoped>\n",
       "    .dataframe tbody tr th:only-of-type {\n",
       "        vertical-align: middle;\n",
       "    }\n",
       "\n",
       "    .dataframe tbody tr th {\n",
       "        vertical-align: top;\n",
       "    }\n",
       "\n",
       "    .dataframe thead th {\n",
       "        text-align: right;\n",
       "    }\n",
       "</style>\n",
       "<table border=\"1\" class=\"dataframe\">\n",
       "  <thead>\n",
       "    <tr style=\"text-align: right;\">\n",
       "      <th></th>\n",
       "      <th>track_id</th>\n",
       "      <th>acousticness</th>\n",
       "      <th>danceability</th>\n",
       "      <th>energy</th>\n",
       "      <th>instrumentalness</th>\n",
       "      <th>liveness</th>\n",
       "      <th>speechiness</th>\n",
       "      <th>tempo</th>\n",
       "      <th>valence</th>\n",
       "    </tr>\n",
       "  </thead>\n",
       "  <tbody>\n",
       "    <tr>\n",
       "      <th>0</th>\n",
       "      <td>2</td>\n",
       "      <td>0.416675</td>\n",
       "      <td>0.675894</td>\n",
       "      <td>0.634476</td>\n",
       "      <td>0.010628</td>\n",
       "      <td>0.177647</td>\n",
       "      <td>0.159310</td>\n",
       "      <td>165.922</td>\n",
       "      <td>0.576661</td>\n",
       "    </tr>\n",
       "    <tr>\n",
       "      <th>1</th>\n",
       "      <td>3</td>\n",
       "      <td>0.374408</td>\n",
       "      <td>0.528643</td>\n",
       "      <td>0.817461</td>\n",
       "      <td>0.001851</td>\n",
       "      <td>0.105880</td>\n",
       "      <td>0.461818</td>\n",
       "      <td>126.957</td>\n",
       "      <td>0.269240</td>\n",
       "    </tr>\n",
       "    <tr>\n",
       "      <th>10</th>\n",
       "      <td>145</td>\n",
       "      <td>0.235506</td>\n",
       "      <td>0.438672</td>\n",
       "      <td>0.487752</td>\n",
       "      <td>0.716122</td>\n",
       "      <td>0.070359</td>\n",
       "      <td>0.047298</td>\n",
       "      <td>120.790</td>\n",
       "      <td>0.650452</td>\n",
       "    </tr>\n",
       "    <tr>\n",
       "      <th>100</th>\n",
       "      <td>341</td>\n",
       "      <td>0.977282</td>\n",
       "      <td>0.468808</td>\n",
       "      <td>0.134975</td>\n",
       "      <td>0.687700</td>\n",
       "      <td>0.105381</td>\n",
       "      <td>0.073124</td>\n",
       "      <td>119.646</td>\n",
       "      <td>0.430707</td>\n",
       "    </tr>\n",
       "    <tr>\n",
       "      <th>1000</th>\n",
       "      <td>3457</td>\n",
       "      <td>0.081256</td>\n",
       "      <td>0.897197</td>\n",
       "      <td>0.367886</td>\n",
       "      <td>0.104474</td>\n",
       "      <td>0.085845</td>\n",
       "      <td>0.041271</td>\n",
       "      <td>100.744</td>\n",
       "      <td>0.749293</td>\n",
       "    </tr>\n",
       "  </tbody>\n",
       "</table>\n",
       "</div>"
      ],
      "text/plain": [
       "      track_id  acousticness  danceability    energy  instrumentalness  \\\n",
       "0            2      0.416675      0.675894  0.634476          0.010628   \n",
       "1            3      0.374408      0.528643  0.817461          0.001851   \n",
       "10         145      0.235506      0.438672  0.487752          0.716122   \n",
       "100        341      0.977282      0.468808  0.134975          0.687700   \n",
       "1000      3457      0.081256      0.897197  0.367886          0.104474   \n",
       "\n",
       "      liveness  speechiness    tempo   valence  \n",
       "0     0.177647     0.159310  165.922  0.576661  \n",
       "1     0.105880     0.461818  126.957  0.269240  \n",
       "10    0.070359     0.047298  120.790  0.650452  \n",
       "100   0.105381     0.073124  119.646  0.430707  \n",
       "1000  0.085845     0.041271  100.744  0.749293  "
      ]
     },
     "execution_count": 4,
     "metadata": {},
     "output_type": "execute_result"
    }
   ],
   "source": [
    "echonest_metrics.head()"
   ]
  },
  {
   "cell_type": "code",
   "execution_count": 5,
   "metadata": {},
   "outputs": [
    {
     "data": {
      "text/html": [
       "<div>\n",
       "<style scoped>\n",
       "    .dataframe tbody tr th:only-of-type {\n",
       "        vertical-align: middle;\n",
       "    }\n",
       "\n",
       "    .dataframe tbody tr th {\n",
       "        vertical-align: top;\n",
       "    }\n",
       "\n",
       "    .dataframe thead th {\n",
       "        text-align: right;\n",
       "    }\n",
       "</style>\n",
       "<table border=\"1\" class=\"dataframe\">\n",
       "  <thead>\n",
       "    <tr style=\"text-align: right;\">\n",
       "      <th></th>\n",
       "      <th>track_id</th>\n",
       "      <th>genre_top</th>\n",
       "      <th>acousticness</th>\n",
       "      <th>danceability</th>\n",
       "      <th>energy</th>\n",
       "      <th>instrumentalness</th>\n",
       "      <th>liveness</th>\n",
       "      <th>speechiness</th>\n",
       "      <th>tempo</th>\n",
       "      <th>valence</th>\n",
       "    </tr>\n",
       "  </thead>\n",
       "  <tbody>\n",
       "    <tr>\n",
       "      <th>0</th>\n",
       "      <td>153</td>\n",
       "      <td>Rock</td>\n",
       "      <td>0.988306</td>\n",
       "      <td>0.255661</td>\n",
       "      <td>0.979774</td>\n",
       "      <td>0.973006</td>\n",
       "      <td>0.121342</td>\n",
       "      <td>0.051740</td>\n",
       "      <td>90.241</td>\n",
       "      <td>0.034018</td>\n",
       "    </tr>\n",
       "    <tr>\n",
       "      <th>1</th>\n",
       "      <td>154</td>\n",
       "      <td>Rock</td>\n",
       "      <td>0.970135</td>\n",
       "      <td>0.352946</td>\n",
       "      <td>0.023852</td>\n",
       "      <td>0.957113</td>\n",
       "      <td>0.113261</td>\n",
       "      <td>0.032177</td>\n",
       "      <td>53.758</td>\n",
       "      <td>0.035632</td>\n",
       "    </tr>\n",
       "    <tr>\n",
       "      <th>2</th>\n",
       "      <td>155</td>\n",
       "      <td>Rock</td>\n",
       "      <td>0.981657</td>\n",
       "      <td>0.142249</td>\n",
       "      <td>0.912122</td>\n",
       "      <td>0.967294</td>\n",
       "      <td>0.363510</td>\n",
       "      <td>0.087527</td>\n",
       "      <td>91.912</td>\n",
       "      <td>0.034325</td>\n",
       "    </tr>\n",
       "    <tr>\n",
       "      <th>3</th>\n",
       "      <td>169</td>\n",
       "      <td>Rock</td>\n",
       "      <td>0.989141</td>\n",
       "      <td>0.225978</td>\n",
       "      <td>0.722835</td>\n",
       "      <td>0.263076</td>\n",
       "      <td>0.092371</td>\n",
       "      <td>0.053406</td>\n",
       "      <td>94.322</td>\n",
       "      <td>0.028347</td>\n",
       "    </tr>\n",
       "    <tr>\n",
       "      <th>4</th>\n",
       "      <td>170</td>\n",
       "      <td>Rock</td>\n",
       "      <td>0.886660</td>\n",
       "      <td>0.298518</td>\n",
       "      <td>0.744333</td>\n",
       "      <td>0.920950</td>\n",
       "      <td>0.139587</td>\n",
       "      <td>0.088781</td>\n",
       "      <td>97.880</td>\n",
       "      <td>0.073548</td>\n",
       "    </tr>\n",
       "  </tbody>\n",
       "</table>\n",
       "</div>"
      ],
      "text/plain": [
       "   track_id genre_top  acousticness  danceability    energy  instrumentalness  \\\n",
       "0       153      Rock      0.988306      0.255661  0.979774          0.973006   \n",
       "1       154      Rock      0.970135      0.352946  0.023852          0.957113   \n",
       "2       155      Rock      0.981657      0.142249  0.912122          0.967294   \n",
       "3       169      Rock      0.989141      0.225978  0.722835          0.263076   \n",
       "4       170      Rock      0.886660      0.298518  0.744333          0.920950   \n",
       "\n",
       "   liveness  speechiness   tempo   valence  \n",
       "0  0.121342     0.051740  90.241  0.034018  \n",
       "1  0.113261     0.032177  53.758  0.035632  \n",
       "2  0.363510     0.087527  91.912  0.034325  \n",
       "3  0.092371     0.053406  94.322  0.028347  \n",
       "4  0.139587     0.088781  97.880  0.073548  "
      ]
     },
     "execution_count": 5,
     "metadata": {},
     "output_type": "execute_result"
    }
   ],
   "source": [
    "# Merge the track_id and genre_top columns of tracks and echonest_metrics on track_id values\n",
    "echo_tracks = pd.merge(left = tracks[['track_id', 'genre_top']], right=echonest_metrics, on='track_id')\n",
    "\n",
    "echo_tracks.head()"
   ]
  },
  {
   "cell_type": "code",
   "execution_count": 6,
   "metadata": {},
   "outputs": [
    {
     "name": "stdout",
     "output_type": "stream",
     "text": [
      "<class 'pandas.core.frame.DataFrame'>\n",
      "Int64Index: 4802 entries, 0 to 4801\n",
      "Data columns (total 10 columns):\n",
      "track_id            4802 non-null int64\n",
      "genre_top           4802 non-null object\n",
      "acousticness        4802 non-null float64\n",
      "danceability        4802 non-null float64\n",
      "energy              4802 non-null float64\n",
      "instrumentalness    4802 non-null float64\n",
      "liveness            4802 non-null float64\n",
      "speechiness         4802 non-null float64\n",
      "tempo               4802 non-null float64\n",
      "valence             4802 non-null float64\n",
      "dtypes: float64(8), int64(1), object(1)\n",
      "memory usage: 412.7+ KB\n"
     ]
    }
   ],
   "source": [
    "# Inspect the resultant dataframe\n",
    "echo_tracks.info()"
   ]
  },
  {
   "cell_type": "markdown",
   "metadata": {
    "dc": {
     "key": "10"
    },
    "deletable": false,
    "editable": false,
    "run_control": {
     "frozen": true
    },
    "tags": [
     "context"
    ]
   },
   "source": [
    "## 2. Pairwise relationships between continuous variables\n",
    "<p>We typically want to avoid using variables that have strong correlations with each other -- hence avoiding feature redundancy -- for a few reasons:</p>\n",
    "<ul>\n",
    "<li>To keep the model simple and improve interpretability (with many features, we run the risk of overfitting).</li>\n",
    "<li>When our datasets are very large, using fewer features can drastically speed up our computation time.</li>\n",
    "</ul>\n",
    "<p>To get a sense of whether there are any strongly correlated features in our data, we will use built-in functions in the <code>pandas</code> package.</p>"
   ]
  },
  {
   "cell_type": "code",
   "execution_count": 7,
   "metadata": {
    "dc": {
     "key": "10"
    },
    "tags": [
     "sample_code"
    ]
   },
   "outputs": [
    {
     "data": {
      "text/html": [
       "<style  type=\"text/css\" >\n",
       "    #T_5488c010_cedf_11e8_a3d3_5ce0c597b616row0_col0 {\n",
       "            background-color:  #023858;\n",
       "        }    #T_5488c010_cedf_11e8_a3d3_5ce0c597b616row0_col1 {\n",
       "            background-color:  #fff7fb;\n",
       "        }    #T_5488c010_cedf_11e8_a3d3_5ce0c597b616row0_col2 {\n",
       "            background-color:  #d2d2e7;\n",
       "        }    #T_5488c010_cedf_11e8_a3d3_5ce0c597b616row0_col3 {\n",
       "            background-color:  #b5c4df;\n",
       "        }    #T_5488c010_cedf_11e8_a3d3_5ce0c597b616row0_col4 {\n",
       "            background-color:  #f5eef6;\n",
       "        }    #T_5488c010_cedf_11e8_a3d3_5ce0c597b616row0_col5 {\n",
       "            background-color:  #e9e5f1;\n",
       "        }    #T_5488c010_cedf_11e8_a3d3_5ce0c597b616row0_col6 {\n",
       "            background-color:  #d1d2e6;\n",
       "        }    #T_5488c010_cedf_11e8_a3d3_5ce0c597b616row0_col7 {\n",
       "            background-color:  #e1dfed;\n",
       "        }    #T_5488c010_cedf_11e8_a3d3_5ce0c597b616row0_col8 {\n",
       "            background-color:  #dedcec;\n",
       "        }    #T_5488c010_cedf_11e8_a3d3_5ce0c597b616row1_col0 {\n",
       "            background-color:  #fff7fb;\n",
       "        }    #T_5488c010_cedf_11e8_a3d3_5ce0c597b616row1_col1 {\n",
       "            background-color:  #023858;\n",
       "        }    #T_5488c010_cedf_11e8_a3d3_5ce0c597b616row1_col2 {\n",
       "            background-color:  #e0dded;\n",
       "        }    #T_5488c010_cedf_11e8_a3d3_5ce0c597b616row1_col3 {\n",
       "            background-color:  #fff7fb;\n",
       "        }    #T_5488c010_cedf_11e8_a3d3_5ce0c597b616row1_col4 {\n",
       "            background-color:  #97b7d7;\n",
       "        }    #T_5488c010_cedf_11e8_a3d3_5ce0c597b616row1_col5 {\n",
       "            background-color:  #f3edf5;\n",
       "        }    #T_5488c010_cedf_11e8_a3d3_5ce0c597b616row1_col6 {\n",
       "            background-color:  #b8c6e0;\n",
       "        }    #T_5488c010_cedf_11e8_a3d3_5ce0c597b616row1_col7 {\n",
       "            background-color:  #e1dfed;\n",
       "        }    #T_5488c010_cedf_11e8_a3d3_5ce0c597b616row1_col8 {\n",
       "            background-color:  #e2dfee;\n",
       "        }    #T_5488c010_cedf_11e8_a3d3_5ce0c597b616row2_col0 {\n",
       "            background-color:  #bdc8e1;\n",
       "        }    #T_5488c010_cedf_11e8_a3d3_5ce0c597b616row2_col1 {\n",
       "            background-color:  #d0d1e6;\n",
       "        }    #T_5488c010_cedf_11e8_a3d3_5ce0c597b616row2_col2 {\n",
       "            background-color:  #023858;\n",
       "        }    #T_5488c010_cedf_11e8_a3d3_5ce0c597b616row2_col3 {\n",
       "            background-color:  #fbf3f9;\n",
       "        }    #T_5488c010_cedf_11e8_a3d3_5ce0c597b616row2_col4 {\n",
       "            background-color:  #f3edf5;\n",
       "        }    #T_5488c010_cedf_11e8_a3d3_5ce0c597b616row2_col5 {\n",
       "            background-color:  #fff7fb;\n",
       "        }    #T_5488c010_cedf_11e8_a3d3_5ce0c597b616row2_col6 {\n",
       "            background-color:  #80aed2;\n",
       "        }    #T_5488c010_cedf_11e8_a3d3_5ce0c597b616row2_col7 {\n",
       "            background-color:  #fff7fb;\n",
       "        }    #T_5488c010_cedf_11e8_a3d3_5ce0c597b616row2_col8 {\n",
       "            background-color:  #529bc7;\n",
       "        }    #T_5488c010_cedf_11e8_a3d3_5ce0c597b616row3_col0 {\n",
       "            background-color:  #a7bddb;\n",
       "        }    #T_5488c010_cedf_11e8_a3d3_5ce0c597b616row3_col1 {\n",
       "            background-color:  #f5eff6;\n",
       "        }    #T_5488c010_cedf_11e8_a3d3_5ce0c597b616row3_col2 {\n",
       "            background-color:  #fef6fa;\n",
       "        }    #T_5488c010_cedf_11e8_a3d3_5ce0c597b616row3_col3 {\n",
       "            background-color:  #023858;\n",
       "        }    #T_5488c010_cedf_11e8_a3d3_5ce0c597b616row3_col4 {\n",
       "            background-color:  #c4cbe3;\n",
       "        }    #T_5488c010_cedf_11e8_a3d3_5ce0c597b616row3_col5 {\n",
       "            background-color:  #dcdaeb;\n",
       "        }    #T_5488c010_cedf_11e8_a3d3_5ce0c597b616row3_col6 {\n",
       "            background-color:  #dedcec;\n",
       "        }    #T_5488c010_cedf_11e8_a3d3_5ce0c597b616row3_col7 {\n",
       "            background-color:  #adc1dd;\n",
       "        }    #T_5488c010_cedf_11e8_a3d3_5ce0c597b616row3_col8 {\n",
       "            background-color:  #d9d8ea;\n",
       "        }    #T_5488c010_cedf_11e8_a3d3_5ce0c597b616row4_col0 {\n",
       "            background-color:  #f4eef6;\n",
       "        }    #T_5488c010_cedf_11e8_a3d3_5ce0c597b616row4_col1 {\n",
       "            background-color:  #97b7d7;\n",
       "        }    #T_5488c010_cedf_11e8_a3d3_5ce0c597b616row4_col2 {\n",
       "            background-color:  #fff7fb;\n",
       "        }    #T_5488c010_cedf_11e8_a3d3_5ce0c597b616row4_col3 {\n",
       "            background-color:  #d2d3e7;\n",
       "        }    #T_5488c010_cedf_11e8_a3d3_5ce0c597b616row4_col4 {\n",
       "            background-color:  #023858;\n",
       "        }    #T_5488c010_cedf_11e8_a3d3_5ce0c597b616row4_col5 {\n",
       "            background-color:  #fdf5fa;\n",
       "        }    #T_5488c010_cedf_11e8_a3d3_5ce0c597b616row4_col6 {\n",
       "            background-color:  #fff7fb;\n",
       "        }    #T_5488c010_cedf_11e8_a3d3_5ce0c597b616row4_col7 {\n",
       "            background-color:  #d9d8ea;\n",
       "        }    #T_5488c010_cedf_11e8_a3d3_5ce0c597b616row4_col8 {\n",
       "            background-color:  #fff7fb;\n",
       "        }    #T_5488c010_cedf_11e8_a3d3_5ce0c597b616row5_col0 {\n",
       "            background-color:  #bdc8e1;\n",
       "        }    #T_5488c010_cedf_11e8_a3d3_5ce0c597b616row5_col1 {\n",
       "            background-color:  #ced0e6;\n",
       "        }    #T_5488c010_cedf_11e8_a3d3_5ce0c597b616row5_col2 {\n",
       "            background-color:  #ede8f3;\n",
       "        }    #T_5488c010_cedf_11e8_a3d3_5ce0c597b616row5_col3 {\n",
       "            background-color:  #bdc8e1;\n",
       "        }    #T_5488c010_cedf_11e8_a3d3_5ce0c597b616row5_col4 {\n",
       "            background-color:  #dbdaeb;\n",
       "        }    #T_5488c010_cedf_11e8_a3d3_5ce0c597b616row5_col5 {\n",
       "            background-color:  #023858;\n",
       "        }    #T_5488c010_cedf_11e8_a3d3_5ce0c597b616row5_col6 {\n",
       "            background-color:  #c0c9e2;\n",
       "        }    #T_5488c010_cedf_11e8_a3d3_5ce0c597b616row5_col7 {\n",
       "            background-color:  #dcdaeb;\n",
       "        }    #T_5488c010_cedf_11e8_a3d3_5ce0c597b616row5_col8 {\n",
       "            background-color:  #e8e4f0;\n",
       "        }    #T_5488c010_cedf_11e8_a3d3_5ce0c597b616row6_col0 {\n",
       "            background-color:  #d0d1e6;\n",
       "        }    #T_5488c010_cedf_11e8_a3d3_5ce0c597b616row6_col1 {\n",
       "            background-color:  #b8c6e0;\n",
       "        }    #T_5488c010_cedf_11e8_a3d3_5ce0c597b616row6_col2 {\n",
       "            background-color:  #93b5d6;\n",
       "        }    #T_5488c010_cedf_11e8_a3d3_5ce0c597b616row6_col3 {\n",
       "            background-color:  #eae6f1;\n",
       "        }    #T_5488c010_cedf_11e8_a3d3_5ce0c597b616row6_col4 {\n",
       "            background-color:  #fff7fb;\n",
       "        }    #T_5488c010_cedf_11e8_a3d3_5ce0c597b616row6_col5 {\n",
       "            background-color:  #eae6f1;\n",
       "        }    #T_5488c010_cedf_11e8_a3d3_5ce0c597b616row6_col6 {\n",
       "            background-color:  #023858;\n",
       "        }    #T_5488c010_cedf_11e8_a3d3_5ce0c597b616row6_col7 {\n",
       "            background-color:  #dbdaeb;\n",
       "        }    #T_5488c010_cedf_11e8_a3d3_5ce0c597b616row6_col8 {\n",
       "            background-color:  #bfc9e1;\n",
       "        }    #T_5488c010_cedf_11e8_a3d3_5ce0c597b616row7_col0 {\n",
       "            background-color:  #d0d1e6;\n",
       "        }    #T_5488c010_cedf_11e8_a3d3_5ce0c597b616row7_col1 {\n",
       "            background-color:  #d0d1e6;\n",
       "        }    #T_5488c010_cedf_11e8_a3d3_5ce0c597b616row7_col2 {\n",
       "            background-color:  #fef6fa;\n",
       "        }    #T_5488c010_cedf_11e8_a3d3_5ce0c597b616row7_col3 {\n",
       "            background-color:  #a7bddb;\n",
       "        }    #T_5488c010_cedf_11e8_a3d3_5ce0c597b616row7_col4 {\n",
       "            background-color:  #c5cce3;\n",
       "        }    #T_5488c010_cedf_11e8_a3d3_5ce0c597b616row7_col5 {\n",
       "            background-color:  #f0eaf4;\n",
       "        }    #T_5488c010_cedf_11e8_a3d3_5ce0c597b616row7_col6 {\n",
       "            background-color:  #c8cde4;\n",
       "        }    #T_5488c010_cedf_11e8_a3d3_5ce0c597b616row7_col7 {\n",
       "            background-color:  #023858;\n",
       "        }    #T_5488c010_cedf_11e8_a3d3_5ce0c597b616row7_col8 {\n",
       "            background-color:  #d6d6e9;\n",
       "        }    #T_5488c010_cedf_11e8_a3d3_5ce0c597b616row8_col0 {\n",
       "            background-color:  #c6cce3;\n",
       "        }    #T_5488c010_cedf_11e8_a3d3_5ce0c597b616row8_col1 {\n",
       "            background-color:  #cdd0e5;\n",
       "        }    #T_5488c010_cedf_11e8_a3d3_5ce0c597b616row8_col2 {\n",
       "            background-color:  #4c99c5;\n",
       "        }    #T_5488c010_cedf_11e8_a3d3_5ce0c597b616row8_col3 {\n",
       "            background-color:  #d1d2e6;\n",
       "        }    #T_5488c010_cedf_11e8_a3d3_5ce0c597b616row8_col4 {\n",
       "            background-color:  #efe9f3;\n",
       "        }    #T_5488c010_cedf_11e8_a3d3_5ce0c597b616row8_col5 {\n",
       "            background-color:  #f7f0f7;\n",
       "        }    #T_5488c010_cedf_11e8_a3d3_5ce0c597b616row8_col6 {\n",
       "            background-color:  #a5bddb;\n",
       "        }    #T_5488c010_cedf_11e8_a3d3_5ce0c597b616row8_col7 {\n",
       "            background-color:  #d3d4e7;\n",
       "        }    #T_5488c010_cedf_11e8_a3d3_5ce0c597b616row8_col8 {\n",
       "            background-color:  #023858;\n",
       "        }</style>  \n",
       "<table id=\"T_5488c010_cedf_11e8_a3d3_5ce0c597b616\" > \n",
       "<thead>    <tr> \n",
       "        <th class=\"blank level0\" ></th> \n",
       "        <th class=\"col_heading level0 col0\" >track_id</th> \n",
       "        <th class=\"col_heading level0 col1\" >acousticness</th> \n",
       "        <th class=\"col_heading level0 col2\" >danceability</th> \n",
       "        <th class=\"col_heading level0 col3\" >energy</th> \n",
       "        <th class=\"col_heading level0 col4\" >instrumentalness</th> \n",
       "        <th class=\"col_heading level0 col5\" >liveness</th> \n",
       "        <th class=\"col_heading level0 col6\" >speechiness</th> \n",
       "        <th class=\"col_heading level0 col7\" >tempo</th> \n",
       "        <th class=\"col_heading level0 col8\" >valence</th> \n",
       "    </tr></thead> \n",
       "<tbody>    <tr> \n",
       "        <th id=\"T_5488c010_cedf_11e8_a3d3_5ce0c597b616level0_row0\" class=\"row_heading level0 row0\" >track_id</th> \n",
       "        <td id=\"T_5488c010_cedf_11e8_a3d3_5ce0c597b616row0_col0\" class=\"data row0 col0\" >1</td> \n",
       "        <td id=\"T_5488c010_cedf_11e8_a3d3_5ce0c597b616row0_col1\" class=\"data row0 col1\" >-0.372282</td> \n",
       "        <td id=\"T_5488c010_cedf_11e8_a3d3_5ce0c597b616row0_col2\" class=\"data row0 col2\" >0.0494541</td> \n",
       "        <td id=\"T_5488c010_cedf_11e8_a3d3_5ce0c597b616row0_col3\" class=\"data row0 col3\" >0.140703</td> \n",
       "        <td id=\"T_5488c010_cedf_11e8_a3d3_5ce0c597b616row0_col4\" class=\"data row0 col4\" >-0.275623</td> \n",
       "        <td id=\"T_5488c010_cedf_11e8_a3d3_5ce0c597b616row0_col5\" class=\"data row0 col5\" >0.0482307</td> \n",
       "        <td id=\"T_5488c010_cedf_11e8_a3d3_5ce0c597b616row0_col6\" class=\"data row0 col6\" >-0.0269951</td> \n",
       "        <td id=\"T_5488c010_cedf_11e8_a3d3_5ce0c597b616row0_col7\" class=\"data row0 col7\" >-0.0253918</td> \n",
       "        <td id=\"T_5488c010_cedf_11e8_a3d3_5ce0c597b616row0_col8\" class=\"data row0 col8\" >0.0100698</td> \n",
       "    </tr>    <tr> \n",
       "        <th id=\"T_5488c010_cedf_11e8_a3d3_5ce0c597b616level0_row1\" class=\"row_heading level0 row1\" >acousticness</th> \n",
       "        <td id=\"T_5488c010_cedf_11e8_a3d3_5ce0c597b616row1_col0\" class=\"data row1 col0\" >-0.372282</td> \n",
       "        <td id=\"T_5488c010_cedf_11e8_a3d3_5ce0c597b616row1_col1\" class=\"data row1 col1\" >1</td> \n",
       "        <td id=\"T_5488c010_cedf_11e8_a3d3_5ce0c597b616row1_col2\" class=\"data row1 col2\" >-0.0289537</td> \n",
       "        <td id=\"T_5488c010_cedf_11e8_a3d3_5ce0c597b616row1_col3\" class=\"data row1 col3\" >-0.281619</td> \n",
       "        <td id=\"T_5488c010_cedf_11e8_a3d3_5ce0c597b616row1_col4\" class=\"data row1 col4\" >0.19478</td> \n",
       "        <td id=\"T_5488c010_cedf_11e8_a3d3_5ce0c597b616row1_col5\" class=\"data row1 col5\" >-0.0199914</td> \n",
       "        <td id=\"T_5488c010_cedf_11e8_a3d3_5ce0c597b616row1_col6\" class=\"data row1 col6\" >0.072204</td> \n",
       "        <td id=\"T_5488c010_cedf_11e8_a3d3_5ce0c597b616row1_col7\" class=\"data row1 col7\" >-0.0263097</td> \n",
       "        <td id=\"T_5488c010_cedf_11e8_a3d3_5ce0c597b616row1_col8\" class=\"data row1 col8\" >-0.0138406</td> \n",
       "    </tr>    <tr> \n",
       "        <th id=\"T_5488c010_cedf_11e8_a3d3_5ce0c597b616level0_row2\" class=\"row_heading level0 row2\" >danceability</th> \n",
       "        <td id=\"T_5488c010_cedf_11e8_a3d3_5ce0c597b616row2_col0\" class=\"data row2 col0\" >0.0494541</td> \n",
       "        <td id=\"T_5488c010_cedf_11e8_a3d3_5ce0c597b616row2_col1\" class=\"data row2 col1\" >-0.0289537</td> \n",
       "        <td id=\"T_5488c010_cedf_11e8_a3d3_5ce0c597b616row2_col2\" class=\"data row2 col2\" >1</td> \n",
       "        <td id=\"T_5488c010_cedf_11e8_a3d3_5ce0c597b616row2_col3\" class=\"data row2 col3\" >-0.242032</td> \n",
       "        <td id=\"T_5488c010_cedf_11e8_a3d3_5ce0c597b616row2_col4\" class=\"data row2 col4\" >-0.255217</td> \n",
       "        <td id=\"T_5488c010_cedf_11e8_a3d3_5ce0c597b616row2_col5\" class=\"data row2 col5\" >-0.106584</td> \n",
       "        <td id=\"T_5488c010_cedf_11e8_a3d3_5ce0c597b616row2_col6\" class=\"data row2 col6\" >0.276206</td> \n",
       "        <td id=\"T_5488c010_cedf_11e8_a3d3_5ce0c597b616row2_col7\" class=\"data row2 col7\" >-0.242089</td> \n",
       "        <td id=\"T_5488c010_cedf_11e8_a3d3_5ce0c597b616row2_col8\" class=\"data row2 col8\" >0.473165</td> \n",
       "    </tr>    <tr> \n",
       "        <th id=\"T_5488c010_cedf_11e8_a3d3_5ce0c597b616level0_row3\" class=\"row_heading level0 row3\" >energy</th> \n",
       "        <td id=\"T_5488c010_cedf_11e8_a3d3_5ce0c597b616row3_col0\" class=\"data row3 col0\" >0.140703</td> \n",
       "        <td id=\"T_5488c010_cedf_11e8_a3d3_5ce0c597b616row3_col1\" class=\"data row3 col1\" >-0.281619</td> \n",
       "        <td id=\"T_5488c010_cedf_11e8_a3d3_5ce0c597b616row3_col2\" class=\"data row3 col2\" >-0.242032</td> \n",
       "        <td id=\"T_5488c010_cedf_11e8_a3d3_5ce0c597b616row3_col3\" class=\"data row3 col3\" >1</td> \n",
       "        <td id=\"T_5488c010_cedf_11e8_a3d3_5ce0c597b616row3_col4\" class=\"data row3 col4\" >0.0282377</td> \n",
       "        <td id=\"T_5488c010_cedf_11e8_a3d3_5ce0c597b616row3_col5\" class=\"data row3 col5\" >0.113331</td> \n",
       "        <td id=\"T_5488c010_cedf_11e8_a3d3_5ce0c597b616row3_col6\" class=\"data row3 col6\" >-0.109983</td> \n",
       "        <td id=\"T_5488c010_cedf_11e8_a3d3_5ce0c597b616row3_col7\" class=\"data row3 col7\" >0.195227</td> \n",
       "        <td id=\"T_5488c010_cedf_11e8_a3d3_5ce0c597b616row3_col8\" class=\"data row3 col8\" >0.0386027</td> \n",
       "    </tr>    <tr> \n",
       "        <th id=\"T_5488c010_cedf_11e8_a3d3_5ce0c597b616level0_row4\" class=\"row_heading level0 row4\" >instrumentalness</th> \n",
       "        <td id=\"T_5488c010_cedf_11e8_a3d3_5ce0c597b616row4_col0\" class=\"data row4 col0\" >-0.275623</td> \n",
       "        <td id=\"T_5488c010_cedf_11e8_a3d3_5ce0c597b616row4_col1\" class=\"data row4 col1\" >0.19478</td> \n",
       "        <td id=\"T_5488c010_cedf_11e8_a3d3_5ce0c597b616row4_col2\" class=\"data row4 col2\" >-0.255217</td> \n",
       "        <td id=\"T_5488c010_cedf_11e8_a3d3_5ce0c597b616row4_col3\" class=\"data row4 col3\" >0.0282377</td> \n",
       "        <td id=\"T_5488c010_cedf_11e8_a3d3_5ce0c597b616row4_col4\" class=\"data row4 col4\" >1</td> \n",
       "        <td id=\"T_5488c010_cedf_11e8_a3d3_5ce0c597b616row4_col5\" class=\"data row4 col5\" >-0.0910218</td> \n",
       "        <td id=\"T_5488c010_cedf_11e8_a3d3_5ce0c597b616row4_col6\" class=\"data row4 col6\" >-0.366762</td> \n",
       "        <td id=\"T_5488c010_cedf_11e8_a3d3_5ce0c597b616row4_col7\" class=\"data row4 col7\" >0.022215</td> \n",
       "        <td id=\"T_5488c010_cedf_11e8_a3d3_5ce0c597b616row4_col8\" class=\"data row4 col8\" >-0.219967</td> \n",
       "    </tr>    <tr> \n",
       "        <th id=\"T_5488c010_cedf_11e8_a3d3_5ce0c597b616level0_row5\" class=\"row_heading level0 row5\" >liveness</th> \n",
       "        <td id=\"T_5488c010_cedf_11e8_a3d3_5ce0c597b616row5_col0\" class=\"data row5 col0\" >0.0482307</td> \n",
       "        <td id=\"T_5488c010_cedf_11e8_a3d3_5ce0c597b616row5_col1\" class=\"data row5 col1\" >-0.0199914</td> \n",
       "        <td id=\"T_5488c010_cedf_11e8_a3d3_5ce0c597b616row5_col2\" class=\"data row5 col2\" >-0.106584</td> \n",
       "        <td id=\"T_5488c010_cedf_11e8_a3d3_5ce0c597b616row5_col3\" class=\"data row5 col3\" >0.113331</td> \n",
       "        <td id=\"T_5488c010_cedf_11e8_a3d3_5ce0c597b616row5_col4\" class=\"data row5 col4\" >-0.0910218</td> \n",
       "        <td id=\"T_5488c010_cedf_11e8_a3d3_5ce0c597b616row5_col5\" class=\"data row5 col5\" >1</td> \n",
       "        <td id=\"T_5488c010_cedf_11e8_a3d3_5ce0c597b616row5_col6\" class=\"data row5 col6\" >0.0411725</td> \n",
       "        <td id=\"T_5488c010_cedf_11e8_a3d3_5ce0c597b616row5_col7\" class=\"data row5 col7\" >0.00273169</td> \n",
       "        <td id=\"T_5488c010_cedf_11e8_a3d3_5ce0c597b616row5_col8\" class=\"data row5 col8\" >-0.0450931</td> \n",
       "    </tr>    <tr> \n",
       "        <th id=\"T_5488c010_cedf_11e8_a3d3_5ce0c597b616level0_row6\" class=\"row_heading level0 row6\" >speechiness</th> \n",
       "        <td id=\"T_5488c010_cedf_11e8_a3d3_5ce0c597b616row6_col0\" class=\"data row6 col0\" >-0.0269951</td> \n",
       "        <td id=\"T_5488c010_cedf_11e8_a3d3_5ce0c597b616row6_col1\" class=\"data row6 col1\" >0.072204</td> \n",
       "        <td id=\"T_5488c010_cedf_11e8_a3d3_5ce0c597b616row6_col2\" class=\"data row6 col2\" >0.276206</td> \n",
       "        <td id=\"T_5488c010_cedf_11e8_a3d3_5ce0c597b616row6_col3\" class=\"data row6 col3\" >-0.109983</td> \n",
       "        <td id=\"T_5488c010_cedf_11e8_a3d3_5ce0c597b616row6_col4\" class=\"data row6 col4\" >-0.366762</td> \n",
       "        <td id=\"T_5488c010_cedf_11e8_a3d3_5ce0c597b616row6_col5\" class=\"data row6 col5\" >0.0411725</td> \n",
       "        <td id=\"T_5488c010_cedf_11e8_a3d3_5ce0c597b616row6_col6\" class=\"data row6 col6\" >1</td> \n",
       "        <td id=\"T_5488c010_cedf_11e8_a3d3_5ce0c597b616row6_col7\" class=\"data row6 col7\" >0.00824055</td> \n",
       "        <td id=\"T_5488c010_cedf_11e8_a3d3_5ce0c597b616row6_col8\" class=\"data row6 col8\" >0.149894</td> \n",
       "    </tr>    <tr> \n",
       "        <th id=\"T_5488c010_cedf_11e8_a3d3_5ce0c597b616level0_row7\" class=\"row_heading level0 row7\" >tempo</th> \n",
       "        <td id=\"T_5488c010_cedf_11e8_a3d3_5ce0c597b616row7_col0\" class=\"data row7 col0\" >-0.0253918</td> \n",
       "        <td id=\"T_5488c010_cedf_11e8_a3d3_5ce0c597b616row7_col1\" class=\"data row7 col1\" >-0.0263097</td> \n",
       "        <td id=\"T_5488c010_cedf_11e8_a3d3_5ce0c597b616row7_col2\" class=\"data row7 col2\" >-0.242089</td> \n",
       "        <td id=\"T_5488c010_cedf_11e8_a3d3_5ce0c597b616row7_col3\" class=\"data row7 col3\" >0.195227</td> \n",
       "        <td id=\"T_5488c010_cedf_11e8_a3d3_5ce0c597b616row7_col4\" class=\"data row7 col4\" >0.022215</td> \n",
       "        <td id=\"T_5488c010_cedf_11e8_a3d3_5ce0c597b616row7_col5\" class=\"data row7 col5\" >0.00273169</td> \n",
       "        <td id=\"T_5488c010_cedf_11e8_a3d3_5ce0c597b616row7_col6\" class=\"data row7 col6\" >0.00824055</td> \n",
       "        <td id=\"T_5488c010_cedf_11e8_a3d3_5ce0c597b616row7_col7\" class=\"data row7 col7\" >1</td> \n",
       "        <td id=\"T_5488c010_cedf_11e8_a3d3_5ce0c597b616row7_col8\" class=\"data row7 col8\" >0.0522212</td> \n",
       "    </tr>    <tr> \n",
       "        <th id=\"T_5488c010_cedf_11e8_a3d3_5ce0c597b616level0_row8\" class=\"row_heading level0 row8\" >valence</th> \n",
       "        <td id=\"T_5488c010_cedf_11e8_a3d3_5ce0c597b616row8_col0\" class=\"data row8 col0\" >0.0100698</td> \n",
       "        <td id=\"T_5488c010_cedf_11e8_a3d3_5ce0c597b616row8_col1\" class=\"data row8 col1\" >-0.0138406</td> \n",
       "        <td id=\"T_5488c010_cedf_11e8_a3d3_5ce0c597b616row8_col2\" class=\"data row8 col2\" >0.473165</td> \n",
       "        <td id=\"T_5488c010_cedf_11e8_a3d3_5ce0c597b616row8_col3\" class=\"data row8 col3\" >0.0386027</td> \n",
       "        <td id=\"T_5488c010_cedf_11e8_a3d3_5ce0c597b616row8_col4\" class=\"data row8 col4\" >-0.219967</td> \n",
       "        <td id=\"T_5488c010_cedf_11e8_a3d3_5ce0c597b616row8_col5\" class=\"data row8 col5\" >-0.0450931</td> \n",
       "        <td id=\"T_5488c010_cedf_11e8_a3d3_5ce0c597b616row8_col6\" class=\"data row8 col6\" >0.149894</td> \n",
       "        <td id=\"T_5488c010_cedf_11e8_a3d3_5ce0c597b616row8_col7\" class=\"data row8 col7\" >0.0522212</td> \n",
       "        <td id=\"T_5488c010_cedf_11e8_a3d3_5ce0c597b616row8_col8\" class=\"data row8 col8\" >1</td> \n",
       "    </tr></tbody> \n",
       "</table> "
      ],
      "text/plain": [
       "<pandas.io.formats.style.Styler at 0x7f6f0c92e940>"
      ]
     },
     "execution_count": 7,
     "metadata": {},
     "output_type": "execute_result"
    }
   ],
   "source": [
    "# Create a correlation matrix\n",
    "corr_metrics = echo_tracks.corr()\n",
    "corr_metrics.style.background_gradient()"
   ]
  },
  {
   "cell_type": "markdown",
   "metadata": {},
   "source": [
    "Here we can see an interesting correlation between <code>danceability</code> and <code>valence</code>, but it's not strong enough."
   ]
  },
  {
   "cell_type": "markdown",
   "metadata": {
    "dc": {
     "key": "17"
    },
    "deletable": false,
    "editable": false,
    "run_control": {
     "frozen": true
    },
    "tags": [
     "context"
    ]
   },
   "source": [
    "## 3. Normalizing the feature data\n",
    "<p>As mentioned earlier, it can be particularly useful to simplify our models and use as few features as necessary to achieve the best result. Since we didn't find any particular strong correlations between our features, we can instead use a common approach to reduce the number of features called <strong>principal component analysis (PCA)</strong>. </p>\n",
    "<p>It is possible that the variance between genres can be explained by just a few features in the dataset. PCA rotates the data along the axis of highest variance, thus allowing us to determine the relative contribution of each feature of our data towards the variance between classes. </p>\n",
    "<p>However, since PCA uses the absolute variance of a feature to rotate the data, a feature with a broader range of values will overpower and bias the algorithm relative to the other features. To avoid this, we must first normalize our data. There are a few methods to do this, but a common way is through <em>standardization</em>, such that all features have a mean = 0 and standard deviation = 1 (the resultant is a z-score).</p>"
   ]
  },
  {
   "cell_type": "code",
   "execution_count": 8,
   "metadata": {
    "dc": {
     "key": "17"
    },
    "tags": [
     "sample_code"
    ]
   },
   "outputs": [],
   "source": [
    "# Define our features \n",
    "features = echo_tracks.drop(['genre_top', 'track_id'], axis = 1)\n",
    "\n",
    "# Define our labels\n",
    "labels = echo_tracks['genre_top']\n",
    "\n",
    "# Import the StandardScaler\n",
    "from sklearn.preprocessing import StandardScaler\n",
    "\n",
    "# Scale the features and set the values to a new variable\n",
    "scaler = StandardScaler()\n",
    "scaled_train_features = scaler.fit_transform(features)"
   ]
  },
  {
   "cell_type": "markdown",
   "metadata": {
    "dc": {
     "key": "24"
    },
    "deletable": false,
    "editable": false,
    "run_control": {
     "frozen": true
    },
    "tags": [
     "context"
    ]
   },
   "source": [
    "## 4. Principal Component Analysis on our scaled data\n",
    "<p>Now that we have preprocessed our data, we are ready to use PCA to determine by how much we can reduce the dimensionality of our data. We can use <strong>scree-plots</strong> and <strong>cumulative explained ratio plots</strong> to find the number of components to use in further analyses.</p>\n",
    "<p>Scree-plots display the number of components against the variance explained by each component, sorted in descending order of variance. Scree-plots help us get a better sense of which components explain a sufficient amount of variance in our data. When using scree plots, an 'elbow' (a steep drop from one data point to the next) in the plot is typically used to decide on an appropriate cutoff.</p>"
   ]
  },
  {
   "cell_type": "code",
   "execution_count": 14,
   "metadata": {
    "dc": {
     "key": "24"
    },
    "tags": [
     "sample_code"
    ]
   },
   "outputs": [
    {
     "data": {
      "text/plain": [
       "array([0.24297674, 0.18044316, 0.13650309, 0.12994089, 0.11056248,\n",
       "       0.08302245, 0.06923783, 0.04731336])"
      ]
     },
     "execution_count": 14,
     "metadata": {},
     "output_type": "execute_result"
    }
   ],
   "source": [
    "# This is just to make plots appear in the notebook\n",
    "%matplotlib inline\n",
    "\n",
    "# Import our plotting module, and PCA class\n",
    "import matplotlib.pyplot as plt\n",
    "from sklearn.decomposition import PCA\n",
    "\n",
    "# Get our explained variance ratios from PCA using all features\n",
    "pca = PCA()\n",
    "pca.fit(scaled_train_features)\n",
    "exp_variance = pca.explained_variance_ratio_\n",
    "exp_variance"
   ]
  },
  {
   "cell_type": "code",
   "execution_count": 16,
   "metadata": {},
   "outputs": [
    {
     "data": {
      "image/png": "[encoded data removed]",
      "text/plain": [
       "<Figure size 432x288 with 1 Axes>"
      ]
     },
     "metadata": {},
     "output_type": "display_data"
    }
   ],
   "source": [
    "# plot the explained variance using a barplot\n",
    "fig, ax = plt.subplots()\n",
    "ax.bar(range(pca.n_components_),exp_variance)\n",
    "ax.set_xlabel('Principal Component #')\n",
    "plt.show()"
   ]
  },
  {
   "cell_type": "markdown",
   "metadata": {
    "dc": {
     "key": "31"
    },
    "deletable": false,
    "editable": false,
    "run_control": {
     "frozen": true
    },
    "tags": [
     "context"
    ]
   },
   "source": [
    "## 5. Further visualization of PCA\n",
    "<p>Unfortunately, there does not appear to be a clear elbow in this scree plot, which means it is not straightforward to find the number of intrinsic dimensions using this method. </p>\n",
    "<p>But all is not lost! Instead, we can also look at the <strong>cumulative explained variance plot</strong> to determine how many features are required to explain, say, about 90% of the variance (cutoffs are somewhat arbitrary here, and usually decided upon by 'rules of thumb'). Once we determine the appropriate number of components, we can perform PCA with that many components, ideally reducing the dimensionality of our data.</p>"
   ]
  },
  {
   "cell_type": "code",
   "execution_count": 17,
   "metadata": {
    "dc": {
     "key": "31"
    },
    "tags": [
     "sample_code"
    ]
   },
   "outputs": [
    {
     "data": {
      "text/plain": [
       "array([0.24297674, 0.4234199 , 0.55992299, 0.68986388, 0.80042636,\n",
       "       0.88344881, 0.95268664, 1.        ])"
      ]
     },
     "execution_count": 17,
     "metadata": {},
     "output_type": "execute_result"
    }
   ],
   "source": [
    "# Import numpy\n",
    "import numpy as np\n",
    "\n",
    "# Calculate the cumulative explained variance\n",
    "cum_exp_variance = np.cumsum(exp_variance)\n",
    "cum_exp_variance"
   ]
  },
  {
   "cell_type": "code",
   "execution_count": 19,
   "metadata": {},
   "outputs": [
    {
     "data": {
      "image/png": "[encoded data removed]",
      "text/plain": [
       "<Figure size 432x288 with 1 Axes>"
      ]
     },
     "metadata": {},
     "output_type": "display_data"
    }
   ],
   "source": [
    "# Plot the cumulative explained variance and draw a dashed line at 0.90.\n",
    "fig, ax = plt.subplots()\n",
    "ax.plot(range(8),cum_exp_variance)\n",
    "ax.axhline(y=0.9, linestyle='--')\n",
    "plt.show()"
   ]
  },
  {
   "cell_type": "code",
   "execution_count": 20,
   "metadata": {},
   "outputs": [],
   "source": [
    "n_components = 7\n",
    "\n",
    "# Perform PCA with the chosen number of components and project data onto components\n",
    "pca = PCA(n_components, random_state=10)\n",
    "pca.fit(scaled_train_features)\n",
    "pca_projection = pca.transform(scaled_train_features)"
   ]
  },
  {
   "cell_type": "code",
   "execution_count": 22,
   "metadata": {},
   "outputs": [
    {
     "data": {
      "text/plain": [
       "(4802, 7)"
      ]
     },
     "execution_count": 22,
     "metadata": {},
     "output_type": "execute_result"
    }
   ],
   "source": [
    "pca_projection.shape"
   ]
  },
  {
   "cell_type": "markdown",
   "metadata": {
    "dc": {
     "key": "38"
    },
    "deletable": false,
    "editable": false,
    "run_control": {
     "frozen": true
    },
    "tags": [
     "context"
    ]
   },
   "source": [
    "## 6. Train a decision tree to classify genre\n",
    "<p>Now we can use the lower dimensional PCA projection of the data to classify songs into genres. To do that, we first need to split our dataset into 'train' and 'test' subsets, where the 'train' subset will be used to train our model while the 'test' dataset allows for model performance validation.</p>\n",
    "<p>Here, we will be using a simple algorithm known as a decision tree. Decision trees are rule-based classifiers that take in features and follow a 'tree structure' of binary decisions to ultimately classify a data point into one of two or more categories. In addition to being easy to both use and interpret, decision trees allow us to visualize the 'logic flowchart' that the model generates from the training data.</p>\n",
    "<p>Here is an example of a decision tree that demonstrates the process by which an input image (in this case, of a shape) might be classified based on the number of sides it has and whether it is rotated.</p>\n",
    "<p><img src=\"https://s3.amazonaws.com/assets.datacamp.com/production/project_449/img/simple_decision_tree.png\" alt=\"Decision Tree Flow Chart Example\" width=\"350px\"></p>"
   ]
  },
  {
   "cell_type": "code",
   "execution_count": 24,
   "metadata": {
    "dc": {
     "key": "38"
    },
    "tags": [
     "sample_code"
    ]
   },
   "outputs": [],
   "source": [
    "# Import train_test_split function and Decision tree classifier\n",
    "from sklearn.model_selection import train_test_split\n",
    "\n",
    "# Split our data\n",
    "train_features, test_features, train_labels, test_labels = train_test_split(pca_projection, labels, stratify = labels)\n",
    "\n",
    "# Train our decision tree\n",
    "from sklearn.tree import DecisionTreeClassifier\n",
    "tree = DecisionTreeClassifier(random_state = 10)\n",
    "tree.fit(train_features, train_labels)\n",
    "\n",
    "# Predict the labels for the test data\n",
    "pred_labels_tree = tree.predict(test_features)"
   ]
  },
  {
   "cell_type": "code",
   "execution_count": 25,
   "metadata": {},
   "outputs": [
    {
     "data": {
      "text/plain": [
       "0.8559533721898418"
      ]
     },
     "execution_count": 25,
     "metadata": {},
     "output_type": "execute_result"
    }
   ],
   "source": [
    "from sklearn.metrics import accuracy_score\n",
    "accuracy_score(test_labels, pred_labels_tree)"
   ]
  },
  {
   "cell_type": "code",
   "execution_count": 27,
   "metadata": {},
   "outputs": [
    {
     "data": {
      "text/plain": [
       "Rock       3892\n",
       "Hip-Hop     910\n",
       "Name: genre_top, dtype: int64"
      ]
     },
     "execution_count": 27,
     "metadata": {},
     "output_type": "execute_result"
    }
   ],
   "source": [
    "labels.value_counts()"
   ]
  },
  {
   "cell_type": "markdown",
   "metadata": {},
   "source": [
    "Our data is imbalanced, so here accuracy is not really a good metric. Let's look at the confusion matrix."
   ]
  },
  {
   "cell_type": "code",
   "execution_count": 31,
   "metadata": {},
   "outputs": [
    {
     "data": {
      "text/plain": [
       "array([[147,  81],\n",
       "       [ 92, 881]])"
      ]
     },
     "execution_count": 31,
     "metadata": {},
     "output_type": "execute_result"
    }
   ],
   "source": [
    "from sklearn.metrics import confusion_matrix\n",
    "confusion_matrix(test_labels, pred_labels_tree)"
   ]
  },
  {
   "cell_type": "markdown",
   "metadata": {
    "dc": {
     "key": "45"
    },
    "deletable": false,
    "editable": false,
    "run_control": {
     "frozen": true
    },
    "tags": [
     "context"
    ]
   },
   "source": [
    "## 7. Compare our decision tree to a logistic regression\n",
    "<p>Although our tree's performance is decent, it's a bad idea to immediately assume that it's therefore the perfect tool for this job -- there's always the possibility of other models that will perform even better! It's always a worthwhile idea to at least test a few other algorithms and find the one that's best for our data.</p>\n",
    "<p>Sometimes simplest is best, and so we will start by applying <strong>logistic regression</strong>. Logistic regression makes use of what's called the logistic function to calculate the odds that a given data point belongs to a given class. Once we have both models, we can compare them on a few performance metrics, such as false positive and false negative rate (or how many points are inaccurately classified). </p>"
   ]
  },
  {
   "cell_type": "code",
   "execution_count": 32,
   "metadata": {
    "dc": {
     "key": "45"
    },
    "tags": [
     "sample_code"
    ]
   },
   "outputs": [
    {
     "name": "stdout",
     "output_type": "stream",
     "text": [
      "Decision Tree: \n",
      "              precision    recall  f1-score   support\n",
      "\n",
      "    Hip-Hop       0.62      0.64      0.63       228\n",
      "       Rock       0.92      0.91      0.91       973\n",
      "\n",
      "avg / total       0.86      0.86      0.86      1201\n",
      "\n",
      "Logistic Regression: \n",
      "              precision    recall  f1-score   support\n",
      "\n",
      "    Hip-Hop       0.78      0.60      0.67       228\n",
      "       Rock       0.91      0.96      0.93       973\n",
      "\n",
      "avg / total       0.89      0.89      0.89      1201\n",
      "\n"
     ]
    }
   ],
   "source": [
    "# Import LogisticRegression\n",
    "from sklearn.linear_model import LogisticRegression\n",
    "\n",
    "# Train our logistic regression and predict labels for the test set\n",
    "logreg = LogisticRegression(random_state = 10)\n",
    "logreg.fit(train_features, train_labels)\n",
    "pred_labels_logit = logreg.predict(test_features)\n",
    "\n",
    "# Create the classification report for both models\n",
    "from sklearn.metrics import classification_report\n",
    "class_rep_tree = classification_report(test_labels, pred_labels_tree)\n",
    "class_rep_log = classification_report(test_labels, pred_labels_logit)\n",
    "\n",
    "print(\"Decision Tree: \\n\", class_rep_tree)\n",
    "print(\"Logistic Regression: \\n\", class_rep_log)"
   ]
  },
  {
   "cell_type": "markdown",
   "metadata": {
    "dc": {
     "key": "52"
    },
    "deletable": false,
    "editable": false,
    "run_control": {
     "frozen": true
    },
    "tags": [
     "context"
    ]
   },
   "source": [
    "## 8. Balance our data for greater performance\n",
    "<p>Both our models do similarly well, boasting an average precision of 87% each. However, looking at our classification report, we can see that rock songs are fairly well classified, but hip-hop songs are disproportionately misclassified as rock songs. </p>\n",
    "<p>Why might this be the case? Well, just by looking at the number of data points we have for each class, we see that we have far more data points for the rock classification than for hip-hop, potentially skewing our model's ability to distinguish between classes. This also tells us that most of our model's accuracy is driven by its ability to classify just rock songs, which is less than ideal.</p>\n",
    "<p>To account for this, we can weight the value of a correct classification in each class inversely to the occurrence of data points for each class. Since a correct classification for \"Rock\" is not more important than a correct classification for \"Hip-Hop\" (and vice versa), we only need to account for differences in <em>sample size</em> of our data points when weighting our classes here, and not relative importance of each class. </p>"
   ]
  },
  {
   "cell_type": "code",
   "execution_count": 33,
   "metadata": {},
   "outputs": [
    {
     "data": {
      "text/html": [
       "<div>\n",
       "<style scoped>\n",
       "    .dataframe tbody tr th:only-of-type {\n",
       "        vertical-align: middle;\n",
       "    }\n",
       "\n",
       "    .dataframe tbody tr th {\n",
       "        vertical-align: top;\n",
       "    }\n",
       "\n",
       "    .dataframe thead th {\n",
       "        text-align: right;\n",
       "    }\n",
       "</style>\n",
       "<table border=\"1\" class=\"dataframe\">\n",
       "  <thead>\n",
       "    <tr style=\"text-align: right;\">\n",
       "      <th></th>\n",
       "      <th>track_id</th>\n",
       "      <th>genre_top</th>\n",
       "      <th>acousticness</th>\n",
       "      <th>danceability</th>\n",
       "      <th>energy</th>\n",
       "      <th>instrumentalness</th>\n",
       "      <th>liveness</th>\n",
       "      <th>speechiness</th>\n",
       "      <th>tempo</th>\n",
       "      <th>valence</th>\n",
       "    </tr>\n",
       "  </thead>\n",
       "  <tbody>\n",
       "    <tr>\n",
       "      <th>0</th>\n",
       "      <td>153</td>\n",
       "      <td>Rock</td>\n",
       "      <td>0.988306</td>\n",
       "      <td>0.255661</td>\n",
       "      <td>0.979774</td>\n",
       "      <td>0.973006</td>\n",
       "      <td>0.121342</td>\n",
       "      <td>0.051740</td>\n",
       "      <td>90.241</td>\n",
       "      <td>0.034018</td>\n",
       "    </tr>\n",
       "    <tr>\n",
       "      <th>1</th>\n",
       "      <td>154</td>\n",
       "      <td>Rock</td>\n",
       "      <td>0.970135</td>\n",
       "      <td>0.352946</td>\n",
       "      <td>0.023852</td>\n",
       "      <td>0.957113</td>\n",
       "      <td>0.113261</td>\n",
       "      <td>0.032177</td>\n",
       "      <td>53.758</td>\n",
       "      <td>0.035632</td>\n",
       "    </tr>\n",
       "    <tr>\n",
       "      <th>2</th>\n",
       "      <td>155</td>\n",
       "      <td>Rock</td>\n",
       "      <td>0.981657</td>\n",
       "      <td>0.142249</td>\n",
       "      <td>0.912122</td>\n",
       "      <td>0.967294</td>\n",
       "      <td>0.363510</td>\n",
       "      <td>0.087527</td>\n",
       "      <td>91.912</td>\n",
       "      <td>0.034325</td>\n",
       "    </tr>\n",
       "    <tr>\n",
       "      <th>3</th>\n",
       "      <td>169</td>\n",
       "      <td>Rock</td>\n",
       "      <td>0.989141</td>\n",
       "      <td>0.225978</td>\n",
       "      <td>0.722835</td>\n",
       "      <td>0.263076</td>\n",
       "      <td>0.092371</td>\n",
       "      <td>0.053406</td>\n",
       "      <td>94.322</td>\n",
       "      <td>0.028347</td>\n",
       "    </tr>\n",
       "    <tr>\n",
       "      <th>4</th>\n",
       "      <td>170</td>\n",
       "      <td>Rock</td>\n",
       "      <td>0.886660</td>\n",
       "      <td>0.298518</td>\n",
       "      <td>0.744333</td>\n",
       "      <td>0.920950</td>\n",
       "      <td>0.139587</td>\n",
       "      <td>0.088781</td>\n",
       "      <td>97.880</td>\n",
       "      <td>0.073548</td>\n",
       "    </tr>\n",
       "  </tbody>\n",
       "</table>\n",
       "</div>"
      ],
      "text/plain": [
       "   track_id genre_top  acousticness  danceability    energy  instrumentalness  \\\n",
       "0       153      Rock      0.988306      0.255661  0.979774          0.973006   \n",
       "1       154      Rock      0.970135      0.352946  0.023852          0.957113   \n",
       "2       155      Rock      0.981657      0.142249  0.912122          0.967294   \n",
       "3       169      Rock      0.989141      0.225978  0.722835          0.263076   \n",
       "4       170      Rock      0.886660      0.298518  0.744333          0.920950   \n",
       "\n",
       "   liveness  speechiness   tempo   valence  \n",
       "0  0.121342     0.051740  90.241  0.034018  \n",
       "1  0.113261     0.032177  53.758  0.035632  \n",
       "2  0.363510     0.087527  91.912  0.034325  \n",
       "3  0.092371     0.053406  94.322  0.028347  \n",
       "4  0.139587     0.088781  97.880  0.073548  "
      ]
     },
     "execution_count": 33,
     "metadata": {},
     "output_type": "execute_result"
    }
   ],
   "source": [
    "# Subset only the hip-hop tracks, and then only the rock tracks\n",
    "hop_only = echo_tracks.loc[echo_tracks['genre_top'] == 'Hip-Hop']\n",
    "rock_only = echo_tracks.loc[echo_tracks['genre_top'] == 'Rock']\n",
    "rock_only.head()"
   ]
  },
  {
   "cell_type": "code",
   "execution_count": 35,
   "metadata": {},
   "outputs": [
    {
     "data": {
      "text/plain": [
       "((3892, 10), (910, 10))"
      ]
     },
     "execution_count": 35,
     "metadata": {},
     "output_type": "execute_result"
    }
   ],
   "source": [
    "rock_only.shape, hop_only.shape"
   ]
  },
  {
   "cell_type": "code",
   "execution_count": 36,
   "metadata": {},
   "outputs": [
    {
     "data": {
      "text/plain": [
       "((910, 10), (910, 10))"
      ]
     },
     "execution_count": 36,
     "metadata": {},
     "output_type": "execute_result"
    }
   ],
   "source": [
    "# sample the rocks songs to be the same number as there are hip-hop songs\n",
    "rock_only = rock_only.sample(n= hop_only.shape[0])\n",
    "rock_only.shape, hop_only.shape"
   ]
  },
  {
   "cell_type": "code",
   "execution_count": 37,
   "metadata": {},
   "outputs": [
    {
     "data": {
      "text/plain": [
       "(1820, 10)"
      ]
     },
     "execution_count": 37,
     "metadata": {},
     "output_type": "execute_result"
    }
   ],
   "source": [
    "# concatenate the dataframes rock_only and hop_only\n",
    "rock_hop_bal = pd.concat([rock_only, hop_only])\n",
    "rock_hop_bal.shape"
   ]
  },
  {
   "cell_type": "code",
   "execution_count": 38,
   "metadata": {
    "dc": {
     "key": "52"
    },
    "tags": [
     "sample_code"
    ]
   },
   "outputs": [],
   "source": [
    "\n",
    "# The features, labels, and pca projection are created for the balanced dataframe\n",
    "features = rock_hop_bal.drop(['genre_top', 'track_id'], axis=1) \n",
    "labels = rock_hop_bal['genre_top']\n",
    "pca_projection = pca.fit_transform(scaler.fit_transform(features))\n",
    "\n",
    "# Redefine the train and test set with the pca_projection from the balanced data\n",
    "train_features, test_features, train_labels, test_labels = train_test_split(pca_projection,\n",
    "                                                                            labels,\n",
    "                                                                            stratify = labels,\n",
    "                                                                            random_state=10)"
   ]
  },
  {
   "cell_type": "markdown",
   "metadata": {
    "dc": {
     "key": "59"
    },
    "deletable": false,
    "editable": false,
    "run_control": {
     "frozen": true
    },
    "tags": [
     "context"
    ]
   },
   "source": [
    "## 9. Does balancing our dataset improve model bias?\n",
    "<p>We've now balanced our dataset, but in doing so, we've removed a lot of data points that might have been crucial to training our models. Let's test to see if balancing our data improves model bias towards the \"Rock\" classification while retaining overall classification performance. </p>\n",
    "<p>Note that we have already reduced the size of our dataset and will go forward without applying any dimensionality reduction. In practice, we would consider dimensionality reduction more rigorously when dealing with vastly large datasets and when computation times become prohibitively large.</p>"
   ]
  },
  {
   "cell_type": "code",
   "execution_count": 39,
   "metadata": {
    "dc": {
     "key": "59"
    },
    "tags": [
     "sample_code"
    ]
   },
   "outputs": [
    {
     "name": "stdout",
     "output_type": "stream",
     "text": [
      "Decision Tree: \n",
      "              precision    recall  f1-score   support\n",
      "\n",
      "    Hip-Hop       0.81      0.75      0.78       227\n",
      "       Rock       0.77      0.83      0.80       228\n",
      "\n",
      "avg / total       0.79      0.79      0.79       455\n",
      "\n",
      "Logistic Regression: \n",
      "              precision    recall  f1-score   support\n",
      "\n",
      "    Hip-Hop       0.89      0.79      0.84       227\n",
      "       Rock       0.81      0.90      0.86       228\n",
      "\n",
      "avg / total       0.85      0.85      0.85       455\n",
      "\n"
     ]
    }
   ],
   "source": [
    "# Train our decision tree on the balanced data\n",
    "tree = DecisionTreeClassifier(random_state=10)\n",
    "tree.fit(train_features, train_labels)\n",
    "pred_labels_tree = tree.predict(test_features)\n",
    "\n",
    "# Train our logistic regression on the balanced data\n",
    "logreg = LogisticRegression(random_state = 10)\n",
    "logreg.fit(train_features, train_labels)\n",
    "pred_labels_logit = logreg.predict(test_features)\n",
    "\n",
    "# Compare the models\n",
    "print(\"Decision Tree: \\n\", classification_report(test_labels, pred_labels_tree))\n",
    "print(\"Logistic Regression: \\n\", classification_report(test_labels, pred_labels_logit))"
   ]
  },
  {
   "cell_type": "markdown",
   "metadata": {
    "dc": {
     "key": "66"
    },
    "deletable": false,
    "editable": false,
    "run_control": {
     "frozen": true
    },
    "tags": [
     "context"
    ]
   },
   "source": [
    "## 10. Using cross-validation to evaluate our models\n",
    "<p>Success! Balancing our data has removed bias towards the more prevalent class. To get a good sense of how well our models are actually performing, we can apply what's called <strong>cross-validation</strong> (CV). This step allows us to compare models in a more rigorous fashion.</p>\n",
    "<p>Since the way our data is split into train and test sets can impact model performance, CV attempts to split the data multiple ways and test the model on each of the splits. Although there are many different CV methods, all with their own advantages and disadvantages, we will use what's known as <strong>K-fold</strong> CV here. K-fold first splits the data into K different, equally sized subsets. Then, it iteratively uses each subset as a test set while using the remainder of the data as train sets. Finally, we can then aggregate the results from each fold for a final model performance score.</p>"
   ]
  },
  {
   "cell_type": "code",
   "execution_count": 41,
   "metadata": {
    "dc": {
     "key": "66"
    },
    "tags": [
     "sample_code"
    ]
   },
   "outputs": [
    {
     "name": "stdout",
     "output_type": "stream",
     "text": [
      "Decision Tree: 0.7747252747252746 Logistic Regression: 0.8252747252747253\n"
     ]
    }
   ],
   "source": [
    "from sklearn.model_selection import KFold, cross_val_score\n",
    "\n",
    "# Set up our K-fold cross-validation\n",
    "kf = KFold(n_splits=10, random_state=10)\n",
    "\n",
    "tree = DecisionTreeClassifier(random_state=10)\n",
    "logreg = LogisticRegression(random_state=10)\n",
    "\n",
    "# Train our models using KFold cv\n",
    "tree_score = cross_val_score(tree, pca_projection, labels, cv = kf)\n",
    "logit_score = cross_val_score(logreg, pca_projection, labels, cv = kf)\n",
    "\n",
    "# Print the mean of each array of scores\n",
    "print(\"Decision Tree:\", np.mean(tree_score),\n",
    "      \"Logistic Regression:\", np.mean(logit_score))"
   ]
  },
  {
   "cell_type": "markdown",
   "metadata": {},
   "source": [
    "We can see here that our simple Logistic Regression model performed better than the Decision tree model on the balanced Data. We can try more advanced models like Random Forest and SVM later to see if we can improved our results."
   ]
  },
  {
   "cell_type": "code",
   "execution_count": null,
   "metadata": {},
   "outputs": [],
   "source": []
  }
 ],
 "metadata": {
  "kernelspec": {
   "display_name": "Python 3",
   "language": "python",
   "name": "python3"
  },
  "language_info": {
   "codemirror_mode": {
    "name": "ipython",
    "version": 3
   },
   "file_extension": ".py",
   "mimetype": "text/x-python",
   "name": "python",
   "nbconvert_exporter": "python",
   "pygments_lexer": "ipython3",
   "version": "3.6.5"
  },
  "toc": {
   "base_numbering": 1,
   "nav_menu": {},
   "number_sections": true,
   "sideBar": true,
   "skip_h1_title": false,
   "title_cell": "Table of Contents",
   "title_sidebar": "Contents",
   "toc_cell": false,
   "toc_position": {},
   "toc_section_display": true,
   "toc_window_display": false
  },
  "varInspector": {
   "cols": {
    "lenName": 16,
    "lenType": 16,
    "lenVar": 40
   },
   "kernels_config": {
    "python": {
     "delete_cmd_postfix": "",
     "delete_cmd_prefix": "del ",
     "library": "var_list.py",
     "varRefreshCmd": "print(var_dic_list())"
    },
    "r": {
     "delete_cmd_postfix": ") ",
     "delete_cmd_prefix": "rm(",
     "library": "var_list.r",
     "varRefreshCmd": "cat(var_dic_list()) "
    }
   },
   "types_to_exclude": [
    "module",
    "function",
    "builtin_function_or_method",
    "instance",
    "_Feature"
   ],
   "window_display": false
  }
 },
 "nbformat": 4,
 "nbformat_minor": 2
}
